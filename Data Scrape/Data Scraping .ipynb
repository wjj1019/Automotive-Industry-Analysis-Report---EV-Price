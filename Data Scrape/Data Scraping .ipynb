{
 "cells": [
  {
   "cell_type": "code",
   "execution_count": 47,
   "metadata": {},
   "outputs": [],
   "source": [
    "from bs4 import BeautifulSoup\n",
    "import pandas as pd\n",
    "import numpy as np\n",
    "import requests"
   ]
  },
  {
   "cell_type": "code",
   "execution_count": 48,
   "metadata": {},
   "outputs": [],
   "source": [
    "# Webscrape from url\n",
    "url = 'https://ev-database.org/compare/cheapest-electric-vehicle#sort:path~type~order=.rank~number~desc|range-slider-range:prev~next=0~1200|range-slider-acceleration:prev~next=2~23|range-slider-topspeed:prev~next=110~450|range-slider-battery:prev~next=10~200|range-slider-eff:prev~next=100~300|range-slider-fastcharge:prev~next=0~1500|paging:currentPage=0|paging:number=all'\n",
    "html_text = requests.get(url).text\n",
    "soup = BeautifulSoup(html_text, 'html.parser')"
   ]
  },
  {
   "cell_type": "code",
   "execution_count": 49,
   "metadata": {},
   "outputs": [],
   "source": [
    "#Initially find all the div that has class list-item (where the data lies)\n",
    "div = soup.find_all('div',attrs={'class':'list-item'})"
   ]
  },
  {
   "cell_type": "code",
   "execution_count": 50,
   "metadata": {},
   "outputs": [],
   "source": [
    "#For acquiring Brand-Model values\n",
    "title = [i.find('div',attrs={'class':'title-wrap'}) for i in div] #get the container including Brand-Model Text\n",
    "a = [i.find('a') for i in title] # which lies within <a><a>\n",
    "span = [i.find_all('span') for i in a] #Retrieve all span inside <a><a>"
   ]
  },
  {
   "cell_type": "code",
   "execution_count": 51,
   "metadata": {},
   "outputs": [],
   "source": [
    "brand = [] #name of brand\n",
    "model = [] #name of model\n",
    "for i, j in span:\n",
    "    brand.append(i.text) #the first index of span is Brand\n",
    "    model.append(j.text) # second index is Model"
   ]
  },
  {
   "cell_type": "code",
   "execution_count": 52,
   "metadata": {},
   "outputs": [],
   "source": [
    "battery = [i.find('div',{'title-wrap'}) for i in div]"
   ]
  },
  {
   "cell_type": "code",
   "execution_count": 53,
   "metadata": {},
   "outputs": [],
   "source": [
    "battery_ = [i.find('span',{'battery'}) for i in battery]"
   ]
  },
  {
   "cell_type": "code",
   "execution_count": 54,
   "metadata": {},
   "outputs": [],
   "source": [
    "battery_1 = [i.text for i in battery_]"
   ]
  },
  {
   "cell_type": "code",
   "execution_count": 55,
   "metadata": {},
   "outputs": [],
   "source": [
    "# For pulling out Spec information\n",
    "spec = [i.find('div', {'class': 'specs'}) for i in div] #choose spec containing div\n",
    "col = [i.find_all('span',attrs={'tag'}) for i in spec][0] #tag includes the title for each spec info\n",
    "columns_list = [i.text for i in col] # list of Spec Names"
   ]
  },
  {
   "cell_type": "code",
   "execution_count": 56,
   "metadata": {},
   "outputs": [],
   "source": [
    "# get the actual values for spec\n",
    "sp = [i.find_all('span') for i in spec]\n",
    "\n",
    "#empty lists for appending the info \n",
    "zero_hund = []\n",
    "top_speed = []\n",
    "range_ = []\n",
    "eff = []\n",
    "fc = []\n",
    "\n",
    "#looping each span and desginated index = values\n",
    "for i in sp:\n",
    "    zero_hund.append(i[1].text)\n",
    "    top_speed.append(i[3].text)\n",
    "    range_.append(i[5].text)\n",
    "    eff.append(i[7].text)\n",
    "    fc.append(i[9].text)"
   ]
  },
  {
   "cell_type": "code",
   "execution_count": 57,
   "metadata": {},
   "outputs": [],
   "source": [
    "#price = [i.find('div',attrs={'class':'pricing align-right'}) for i in div]\n",
    "price = soup.find_all('div',attrs={'class':'pricing align-right'})\n",
    "price_ = [i.find('span',{'class':'country_de'}) for i in price]"
   ]
  },
  {
   "cell_type": "code",
   "execution_count": 58,
   "metadata": {},
   "outputs": [],
   "source": [
    "german_p = [i.text for i in price_]"
   ]
  },
  {
   "cell_type": "code",
   "execution_count": 59,
   "metadata": {},
   "outputs": [],
   "source": [
    "# empty dataframe with columns\n",
    "v_spec = pd.DataFrame(columns = ['Brand', 'Model','Battery']+columns_list+['Price(German)'])"
   ]
  },
  {
   "cell_type": "code",
   "execution_count": 60,
   "metadata": {},
   "outputs": [],
   "source": [
    "#updating the Dataframe with the information extracted\n",
    "v_spec['Brand'] = brand\n",
    "v_spec['Model'] = model\n",
    "v_spec['0 - 100'] = zero_hund\n",
    "v_spec['Top Speed'] = top_speed\n",
    "v_spec['Range'] = range_\n",
    "v_spec['Efficiency'] = eff\n",
    "v_spec['Fastcharge'] = fc\n",
    "v_spec['Price(German)'] = german_p\n",
    "v_spec['Battery'] = battery_1"
   ]
  },
  {
   "cell_type": "code",
   "execution_count": 61,
   "metadata": {},
   "outputs": [
    {
     "data": {
      "text/html": [
       "<div>\n",
       "<style scoped>\n",
       "    .dataframe tbody tr th:only-of-type {\n",
       "        vertical-align: middle;\n",
       "    }\n",
       "\n",
       "    .dataframe tbody tr th {\n",
       "        vertical-align: top;\n",
       "    }\n",
       "\n",
       "    .dataframe thead th {\n",
       "        text-align: right;\n",
       "    }\n",
       "</style>\n",
       "<table border=\"1\" class=\"dataframe\">\n",
       "  <thead>\n",
       "    <tr style=\"text-align: right;\">\n",
       "      <th></th>\n",
       "      <th>Brand</th>\n",
       "      <th>Model</th>\n",
       "      <th>Battery</th>\n",
       "      <th>0 - 100</th>\n",
       "      <th>Top Speed</th>\n",
       "      <th>Range</th>\n",
       "      <th>Efficiency</th>\n",
       "      <th>Fastcharge</th>\n",
       "      <th>Price(German)</th>\n",
       "    </tr>\n",
       "  </thead>\n",
       "  <tbody>\n",
       "    <tr>\n",
       "      <th>0</th>\n",
       "      <td>Renault</td>\n",
       "      <td>Kangoo Maxi ZE 33</td>\n",
       "      <td>31</td>\n",
       "      <td>22.4 sec</td>\n",
       "      <td>130 km/h</td>\n",
       "      <td>160 km</td>\n",
       "      <td>194 Wh/km</td>\n",
       "      <td>-</td>\n",
       "      <td>N/A</td>\n",
       "    </tr>\n",
       "    <tr>\n",
       "      <th>1</th>\n",
       "      <td>Nissan</td>\n",
       "      <td>Leaf</td>\n",
       "      <td>37</td>\n",
       "      <td>7.9 sec</td>\n",
       "      <td>144 km/h</td>\n",
       "      <td>225 km</td>\n",
       "      <td>164 Wh/km</td>\n",
       "      <td>230 km/h</td>\n",
       "      <td>€29,990</td>\n",
       "    </tr>\n",
       "    <tr>\n",
       "      <th>2</th>\n",
       "      <td>Audi</td>\n",
       "      <td>e-tron Sportback 55 quattro</td>\n",
       "      <td>86.5</td>\n",
       "      <td>5.7 sec</td>\n",
       "      <td>200 km/h</td>\n",
       "      <td>375 km</td>\n",
       "      <td>231 Wh/km</td>\n",
       "      <td>600 km/h</td>\n",
       "      <td>N/A</td>\n",
       "    </tr>\n",
       "    <tr>\n",
       "      <th>3</th>\n",
       "      <td>Porsche</td>\n",
       "      <td>Taycan Turbo S</td>\n",
       "      <td>83.7</td>\n",
       "      <td>2.8 sec</td>\n",
       "      <td>260 km/h</td>\n",
       "      <td>390 km</td>\n",
       "      <td>215 Wh/km</td>\n",
       "      <td>860 km/h</td>\n",
       "      <td>€186,336</td>\n",
       "    </tr>\n",
       "    <tr>\n",
       "      <th>4</th>\n",
       "      <td>Nissan</td>\n",
       "      <td>e-NV200 Evalia</td>\n",
       "      <td>37</td>\n",
       "      <td>14.0 sec</td>\n",
       "      <td>123 km/h</td>\n",
       "      <td>170 km</td>\n",
       "      <td>218 Wh/km</td>\n",
       "      <td>170 km/h</td>\n",
       "      <td>€43,730</td>\n",
       "    </tr>\n",
       "  </tbody>\n",
       "</table>\n",
       "</div>"
      ],
      "text/plain": [
       "     Brand                        Model Battery   0 - 100 Top Speed   Range  \\\n",
       "0  Renault            Kangoo Maxi ZE 33      31  22.4 sec  130 km/h  160 km   \n",
       "1   Nissan                        Leaf       37   7.9 sec  144 km/h  225 km   \n",
       "2     Audi  e-tron Sportback 55 quattro    86.5   5.7 sec  200 km/h  375 km   \n",
       "3  Porsche               Taycan Turbo S    83.7   2.8 sec  260 km/h  390 km   \n",
       "4   Nissan              e-NV200 Evalia       37  14.0 sec  123 km/h  170 km   \n",
       "\n",
       "  Efficiency Fastcharge Price(German)  \n",
       "0  194 Wh/km          -           N/A  \n",
       "1  164 Wh/km   230 km/h       €29,990  \n",
       "2  231 Wh/km   600 km/h           N/A  \n",
       "3  215 Wh/km   860 km/h      €186,336  \n",
       "4  218 Wh/km   170 km/h       €43,730  "
      ]
     },
     "execution_count": 61,
     "metadata": {},
     "output_type": "execute_result"
    }
   ],
   "source": [
    "# Not in proper format for ML \n",
    "v_spec.head()"
   ]
  },
  {
   "cell_type": "code",
   "execution_count": 62,
   "metadata": {},
   "outputs": [],
   "source": [
    "#Preprocessing\n",
    "v_spec['0 - 100'] = v_spec.apply(lambda x: x['0 - 100'].replace('sec',''),axis=1).astype(float)\n",
    "v_spec['Top Speed'] = v_spec.apply(lambda x: x['Top Speed'].replace('km/h',''),axis=1).astype(int)\n",
    "v_spec['Range'] = v_spec.apply(lambda x: x['Range'].replace('km',''),axis=1).astype(int).astype(int)\n",
    "v_spec['Efficiency'] = v_spec.apply(lambda x: x['Efficiency'].replace('Wh/km',''),axis=1).astype(int)\n",
    "v_spec['Battery'] = v_spec['Battery'].astype(float)\n",
    "\n",
    "v_spec['Fastcharge'] = v_spec.apply(lambda x: x['Fastcharge'].replace('km/h',''),axis=1)\n",
    "v_spec['Fastcharge'] = v_spec.apply(lambda x: x['Fastcharge'].replace('-',''),axis=1)\n",
    "v_spec['Fastcharge'] = v_spec.apply(lambda x: x['Fastcharge'].replace(' ',''),axis=1)\n",
    "\n",
    "\n",
    "v_spec['Price(German)'] = v_spec.apply(lambda x: x['Price(German)'].replace('€',''),axis=1)\n",
    "v_spec['Price(German)'] = v_spec.apply(lambda x: x['Price(German)'].replace('N/A',''),axis=1)\n",
    "v_spec['Price(German)'] = v_spec.apply(lambda x: x['Price(German)'].replace(',',''),axis=1)\n",
    "v_spec['Price(German)'] = v_spec.apply(lambda x: x['Price(German)'].replace('-',''),axis=1)\n",
    "v_spec['Price(German)'] = v_spec.apply(lambda x: x['Price(German)'].replace('*',''),axis=1)"
   ]
  },
  {
   "cell_type": "code",
   "execution_count": 63,
   "metadata": {},
   "outputs": [],
   "source": [
    "v_spec = v_spec.replace(r'^\\s*$', np.nan, regex=True)"
   ]
  },
  {
   "cell_type": "code",
   "execution_count": 64,
   "metadata": {},
   "outputs": [],
   "source": [
    "v_spec['Fastcharge'].fillna(0,inplace = True)\n",
    "v_spec['Price(German)'].fillna(0,inplace = True)"
   ]
  },
  {
   "cell_type": "code",
   "execution_count": 65,
   "metadata": {},
   "outputs": [],
   "source": [
    "v_spec['Fastcharge'] = v_spec['Fastcharge'].astype(int)\n",
    "v_spec['Price(German)'] = v_spec['Price(German)'].astype(int)"
   ]
  },
  {
   "cell_type": "code",
   "execution_count": 66,
   "metadata": {},
   "outputs": [],
   "source": [
    "v_spec.replace(0,np.nan,inplace=True)"
   ]
  },
  {
   "cell_type": "code",
   "execution_count": 67,
   "metadata": {},
   "outputs": [
    {
     "name": "stdout",
     "output_type": "stream",
     "text": [
      "<class 'pandas.core.frame.DataFrame'>\n",
      "RangeIndex: 190 entries, 0 to 189\n",
      "Data columns (total 9 columns):\n",
      " #   Column         Non-Null Count  Dtype  \n",
      "---  ------         --------------  -----  \n",
      " 0   Brand          190 non-null    object \n",
      " 1   Model          190 non-null    object \n",
      " 2   Battery        190 non-null    float64\n",
      " 3   0 - 100        190 non-null    float64\n",
      " 4   Top Speed      190 non-null    int32  \n",
      " 5   Range          190 non-null    int32  \n",
      " 6   Efficiency     190 non-null    int32  \n",
      " 7   Fastcharge     185 non-null    float64\n",
      " 8   Price(German)  176 non-null    float64\n",
      "dtypes: float64(4), int32(3), object(2)\n",
      "memory usage: 11.3+ KB\n"
     ]
    }
   ],
   "source": [
    "v_spec.info()"
   ]
  },
  {
   "cell_type": "code",
   "execution_count": 68,
   "metadata": {},
   "outputs": [],
   "source": [
    "v_spec.dropna(inplace=True)"
   ]
  },
  {
   "cell_type": "code",
   "execution_count": 69,
   "metadata": {},
   "outputs": [],
   "source": [
    "v_spec.reset_index(drop=True,inplace=True)"
   ]
  },
  {
   "cell_type": "code",
   "execution_count": 70,
   "metadata": {},
   "outputs": [
    {
     "data": {
      "text/html": [
       "<div>\n",
       "<style scoped>\n",
       "    .dataframe tbody tr th:only-of-type {\n",
       "        vertical-align: middle;\n",
       "    }\n",
       "\n",
       "    .dataframe tbody tr th {\n",
       "        vertical-align: top;\n",
       "    }\n",
       "\n",
       "    .dataframe thead th {\n",
       "        text-align: right;\n",
       "    }\n",
       "</style>\n",
       "<table border=\"1\" class=\"dataframe\">\n",
       "  <thead>\n",
       "    <tr style=\"text-align: right;\">\n",
       "      <th></th>\n",
       "      <th>Brand</th>\n",
       "      <th>Model</th>\n",
       "      <th>Battery</th>\n",
       "      <th>0 - 100</th>\n",
       "      <th>Top Speed</th>\n",
       "      <th>Range</th>\n",
       "      <th>Efficiency</th>\n",
       "      <th>Fastcharge</th>\n",
       "      <th>Price(German)</th>\n",
       "    </tr>\n",
       "  </thead>\n",
       "  <tbody>\n",
       "    <tr>\n",
       "      <th>0</th>\n",
       "      <td>Nissan</td>\n",
       "      <td>Leaf</td>\n",
       "      <td>37.0</td>\n",
       "      <td>7.9</td>\n",
       "      <td>144</td>\n",
       "      <td>225</td>\n",
       "      <td>164</td>\n",
       "      <td>230.0</td>\n",
       "      <td>29990.0</td>\n",
       "    </tr>\n",
       "    <tr>\n",
       "      <th>1</th>\n",
       "      <td>Porsche</td>\n",
       "      <td>Taycan Turbo S</td>\n",
       "      <td>83.7</td>\n",
       "      <td>2.8</td>\n",
       "      <td>260</td>\n",
       "      <td>390</td>\n",
       "      <td>215</td>\n",
       "      <td>860.0</td>\n",
       "      <td>186336.0</td>\n",
       "    </tr>\n",
       "    <tr>\n",
       "      <th>2</th>\n",
       "      <td>Nissan</td>\n",
       "      <td>e-NV200 Evalia</td>\n",
       "      <td>37.0</td>\n",
       "      <td>14.0</td>\n",
       "      <td>123</td>\n",
       "      <td>170</td>\n",
       "      <td>218</td>\n",
       "      <td>170.0</td>\n",
       "      <td>43730.0</td>\n",
       "    </tr>\n",
       "    <tr>\n",
       "      <th>3</th>\n",
       "      <td>Nissan</td>\n",
       "      <td>Leaf e+</td>\n",
       "      <td>56.0</td>\n",
       "      <td>7.3</td>\n",
       "      <td>157</td>\n",
       "      <td>325</td>\n",
       "      <td>172</td>\n",
       "      <td>390.0</td>\n",
       "      <td>37550.0</td>\n",
       "    </tr>\n",
       "    <tr>\n",
       "      <th>4</th>\n",
       "      <td>BMW</td>\n",
       "      <td>i3 120 Ah</td>\n",
       "      <td>37.9</td>\n",
       "      <td>7.3</td>\n",
       "      <td>150</td>\n",
       "      <td>235</td>\n",
       "      <td>161</td>\n",
       "      <td>270.0</td>\n",
       "      <td>39000.0</td>\n",
       "    </tr>\n",
       "    <tr>\n",
       "      <th>...</th>\n",
       "      <td>...</td>\n",
       "      <td>...</td>\n",
       "      <td>...</td>\n",
       "      <td>...</td>\n",
       "      <td>...</td>\n",
       "      <td>...</td>\n",
       "      <td>...</td>\n",
       "      <td>...</td>\n",
       "      <td>...</td>\n",
       "    </tr>\n",
       "    <tr>\n",
       "      <th>167</th>\n",
       "      <td>Peugeot</td>\n",
       "      <td>e-208</td>\n",
       "      <td>45.0</td>\n",
       "      <td>8.1</td>\n",
       "      <td>150</td>\n",
       "      <td>285</td>\n",
       "      <td>158</td>\n",
       "      <td>460.0</td>\n",
       "      <td>31950.0</td>\n",
       "    </tr>\n",
       "    <tr>\n",
       "      <th>168</th>\n",
       "      <td>Peugeot</td>\n",
       "      <td>e-2008 SUV</td>\n",
       "      <td>45.0</td>\n",
       "      <td>8.5</td>\n",
       "      <td>150</td>\n",
       "      <td>255</td>\n",
       "      <td>176</td>\n",
       "      <td>410.0</td>\n",
       "      <td>35450.0</td>\n",
       "    </tr>\n",
       "    <tr>\n",
       "      <th>169</th>\n",
       "      <td>Opel</td>\n",
       "      <td>Corsa-e</td>\n",
       "      <td>45.0</td>\n",
       "      <td>8.1</td>\n",
       "      <td>150</td>\n",
       "      <td>285</td>\n",
       "      <td>158</td>\n",
       "      <td>460.0</td>\n",
       "      <td>29900.0</td>\n",
       "    </tr>\n",
       "    <tr>\n",
       "      <th>170</th>\n",
       "      <td>Opel</td>\n",
       "      <td>Mokka-e</td>\n",
       "      <td>45.0</td>\n",
       "      <td>9.2</td>\n",
       "      <td>150</td>\n",
       "      <td>255</td>\n",
       "      <td>176</td>\n",
       "      <td>410.0</td>\n",
       "      <td>34110.0</td>\n",
       "    </tr>\n",
       "    <tr>\n",
       "      <th>171</th>\n",
       "      <td>Citroen</td>\n",
       "      <td>e-C4</td>\n",
       "      <td>45.0</td>\n",
       "      <td>9.7</td>\n",
       "      <td>150</td>\n",
       "      <td>265</td>\n",
       "      <td>170</td>\n",
       "      <td>420.0</td>\n",
       "      <td>34640.0</td>\n",
       "    </tr>\n",
       "  </tbody>\n",
       "</table>\n",
       "<p>172 rows × 9 columns</p>\n",
       "</div>"
      ],
      "text/plain": [
       "       Brand            Model  Battery  0 - 100  Top Speed  Range  Efficiency  \\\n",
       "0     Nissan            Leaf      37.0      7.9        144    225         164   \n",
       "1    Porsche   Taycan Turbo S     83.7      2.8        260    390         215   \n",
       "2     Nissan  e-NV200 Evalia      37.0     14.0        123    170         218   \n",
       "3     Nissan          Leaf e+     56.0      7.3        157    325         172   \n",
       "4        BMW        i3 120 Ah     37.9      7.3        150    235         161   \n",
       "..       ...              ...      ...      ...        ...    ...         ...   \n",
       "167  Peugeot           e-208      45.0      8.1        150    285         158   \n",
       "168  Peugeot      e-2008 SUV      45.0      8.5        150    255         176   \n",
       "169     Opel         Corsa-e      45.0      8.1        150    285         158   \n",
       "170     Opel         Mokka-e      45.0      9.2        150    255         176   \n",
       "171  Citroen            e-C4      45.0      9.7        150    265         170   \n",
       "\n",
       "     Fastcharge  Price(German)  \n",
       "0         230.0        29990.0  \n",
       "1         860.0       186336.0  \n",
       "2         170.0        43730.0  \n",
       "3         390.0        37550.0  \n",
       "4         270.0        39000.0  \n",
       "..          ...            ...  \n",
       "167       460.0        31950.0  \n",
       "168       410.0        35450.0  \n",
       "169       460.0        29900.0  \n",
       "170       410.0        34110.0  \n",
       "171       420.0        34640.0  \n",
       "\n",
       "[172 rows x 9 columns]"
      ]
     },
     "execution_count": 70,
     "metadata": {},
     "output_type": "execute_result"
    }
   ],
   "source": [
    "v_spec"
   ]
  },
  {
   "cell_type": "code",
   "execution_count": 71,
   "metadata": {},
   "outputs": [],
   "source": [
    "v_spec.to_csv('vehicle_spec')"
   ]
  },
  {
   "cell_type": "code",
   "execution_count": null,
   "metadata": {},
   "outputs": [],
   "source": []
  }
 ],
 "metadata": {
  "kernelspec": {
   "display_name": "Python 3",
   "language": "python",
   "name": "python3"
  },
  "language_info": {
   "codemirror_mode": {
    "name": "ipython",
    "version": 3
   },
   "file_extension": ".py",
   "mimetype": "text/x-python",
   "name": "python",
   "nbconvert_exporter": "python",
   "pygments_lexer": "ipython3",
   "version": "3.8.3"
  }
 },
 "nbformat": 4,
 "nbformat_minor": 4
}
